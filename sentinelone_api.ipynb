{
 "cells": [
  {
   "cell_type": "code",
   "execution_count": 3,
   "metadata": {},
   "outputs": [],
   "source": [
    "import json\n",
    "import pandas\n",
    "import requests\n",
    "from urllib.parse import quote_plus\n",
    "\n",
    "API_KEY=\"-----\"\n",
    "S1_HOST =\"https://usea1-007.sentinelone.net\"\n",
    "\n",
    "headers = {'Authorization':'ApiToken '+ API_KEY}"
   ]
  },
  {
   "cell_type": "code",
   "execution_count": null,
   "metadata": {},
   "outputs": [],
   "source": [
    "# Get Hosts with Application\n",
    "\n",
    "app_name=\"Zoom\"\n",
    "r = requests.get(S1_HOST +'/web/api/v2.1/installed-applications?limit=1000&name__contains=\"{}\"'.format(quote_plus(app_name)), headers=headers)\n",
    "obj = json.loads(r.text)\n",
    "\n",
    "data = []\n",
    "for host in obj['data']:\n",
    "    data.append([host['agentId'], host['agentComputerName'], host['name'],  host['version']])\n",
    "\n",
    "pandas.set_option('display.max_rows', 500)\n",
    "pandas.DataFrame(data, columns=[\"agentId\",\"ComputerName\",\"name\",\"version\"])"
   ]
  }
 ],
 "metadata": {
  "interpreter": {
   "hash": "2db524e06e9f5f4ffedc911c917cb75e12dbc923643829bf417064a77eb14d37"
  },
  "kernelspec": {
   "display_name": "Python 3.8.5 64-bit",
   "name": "python3"
  },
  "language_info": {
   "codemirror_mode": {
    "name": "ipython",
    "version": 3
   },
   "file_extension": ".py",
   "mimetype": "text/x-python",
   "name": "python",
   "nbconvert_exporter": "python",
   "pygments_lexer": "ipython3",
   "version": "3.8.5"
  },
  "orig_nbformat": 4
 },
 "nbformat": 4,
 "nbformat_minor": 2
}
