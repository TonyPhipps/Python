{
 "cells": [
  {
   "cell_type": "code",
   "execution_count": 34,
   "metadata": {},
   "outputs": [],
   "source": [
    "import csv\n",
    "import json\n",
    "import requests\n",
    "import pandas as pd\n",
    "from io import StringIO"
   ]
  },
  {
   "cell_type": "code",
   "execution_count": 4,
   "metadata": {},
   "outputs": [],
   "source": [
    "api_url_base = 'https://defense-prod05.conferdeploy.net/'\n",
    "api_secret = ''\n",
    "api_id = ''\n",
    "org_id = ''\n",
    "org_key = ''"
   ]
  },
  {
   "cell_type": "code",
   "execution_count": 6,
   "metadata": {},
   "outputs": [],
   "source": [
    "headers = {'Content-Type': 'application/json',\n",
    "           'User-Agent': 'Python',\n",
    "           'X-Auth-Token': '{}/{}'.format(api_secret, api_id)}"
   ]
  },
  {
   "cell_type": "code",
   "execution_count": 1,
   "metadata": {},
   "outputs": [],
   "source": [
    "def get_watchlists():\n",
    "    \n",
    "    api_url = '{}threathunter/watchlistmgr/v3/orgs/{}/watchlists'.format(api_url_base, org_key)\n",
    "\n",
    "    response = requests.get(api_url, headers=headers)\n",
    "    json_data = json.loads(response.text)\n",
    "    results = json_data['results']\n",
    "\n",
    "    if response.status_code == 200:\n",
    "        return (results)\n",
    "    else:\n",
    "        print('[!] HTTP {0} calling [{1}]'.format(response.status_code, api_url))\n",
    "        return None"
   ]
  },
  {
   "cell_type": "code",
   "execution_count": null,
   "metadata": {},
   "outputs": [],
   "source": [
    "def save_watchlists():\n",
    "    result = get_watchlists(org_key)\n",
    "    # print(result)\n",
    "    data = open('watchlists.csv', 'w', newline=\"\")\n",
    "    \n",
    "    csvwriter = csv.writer(data)\n",
    "    count = 0\n",
    "    for emp in result:\n",
    "        if count == 0:\n",
    "                header = emp.keys()\n",
    "                csvwriter.writerow(header)\n",
    "                count += 1\n",
    "        csvwriter.writerow(emp.values())\n",
    "    data.close()"
   ]
  },
  {
   "cell_type": "code",
   "execution_count": 7,
   "metadata": {},
   "outputs": [],
   "source": [
    "def get_devices_export():\n",
    "    \n",
    "    status = 'PENDING, REGISTERED, UNINSTALLED, DEREGISTERED, ACTIVE, INACTIVE, ERROR, ALL, BYPASS_ON, BYPASS, QUARANTINE, SENSOR_OUTOFDATE, DELETED, LIVE'\n",
    "    \n",
    "    api_url = '{}appservices/v6/orgs/{}/devices/_search/download?status={}'.format(api_url_base, org_key, status)\n",
    "\n",
    "    response = requests.get(api_url, headers=headers)\n",
    "\n",
    "    if response.status_code == 200:\n",
    "        return (response.content)\n",
    "    else:\n",
    "        print('[!] HTTP {0} calling [{1}]'.format(response.status_code, api_url))\n",
    "        return None"
   ]
  },
  {
   "cell_type": "code",
   "execution_count": null,
   "metadata": {},
   "outputs": [],
   "source": [
    "def save_devices_export():\n",
    "\n",
    "    result = get_devices_export(org_key)\n",
    "\n",
    "    if result is not None:\n",
    "        #print(result)\n",
    "\n",
    "        with open('devices.csv', 'wb') as text_file:\n",
    "            text_file.write(result)\n",
    "    else:\n",
    "        print('No results')"
   ]
  },
  {
   "cell_type": "code",
   "execution_count": null,
   "metadata": {},
   "outputs": [],
   "source": [
    "bytes = get_devices_export()\n",
    "bytes_decoded = bytes.decode('UTF-8')\n",
    "bytes_string = StringIO(bytes_decoded)\n",
    "data = pd.read_csv(bytes_string)\n",
    "data\n"
   ]
  },
  {
   "cell_type": "code",
   "execution_count": null,
   "metadata": {},
   "outputs": [],
   "source": [
    "save_devices_export()\n"
   ]
  },
  {
   "cell_type": "code",
   "execution_count": null,
   "metadata": {},
   "outputs": [],
   "source": [
    "save_watchlists()\n"
   ]
  }
 ],
 "metadata": {
  "interpreter": {
   "hash": "2db524e06e9f5f4ffedc911c917cb75e12dbc923643829bf417064a77eb14d37"
  },
  "kernelspec": {
   "display_name": "Python 3.8.5 64-bit",
   "name": "python3"
  },
  "language_info": {
   "codemirror_mode": {
    "name": "ipython",
    "version": 3
   },
   "file_extension": ".py",
   "mimetype": "text/x-python",
   "name": "python",
   "nbconvert_exporter": "python",
   "pygments_lexer": "ipython3",
   "version": "3.8.5"
  },
  "orig_nbformat": 4
 },
 "nbformat": 4,
 "nbformat_minor": 2
}
