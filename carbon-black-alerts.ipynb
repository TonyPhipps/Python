{
 "cells": [
  {
   "cell_type": "code",
   "execution_count": null,
   "metadata": {},
   "outputs": [],
   "source": [
    "# pip install carbon-black-cloud-sdk\n",
    "# pip install -U ipykernel\n",
    "# https://github.com/carbonblack/carbon-black-cloud-sdk-python\n",
    "# https://carbon-black-cloud-python-sdk.readthedocs.io/en/latest/getting-started/\n",
    "# https://carbon-black-cloud-python-sdk.readthedocs.io/en/latest/alerts/?highlight=CBCloudAPI%20watchlistalert#watchlist-alerts\n",
    "\n",
    "# save this authentication file under C:\\Users\\YOURNAME\\.carbonblack\\credentials.cbc\n",
    "# [default]\n",
    "# url=https://example.net\n",
    "# token=ABCDEFGHGIJKLMNOPQRSTUVWX/ABCDEFGHIJ\n",
    "# org_key=A1B2C3D4\n",
    "# ssl_verify=True"
   ]
  },
  {
   "cell_type": "code",
   "execution_count": 1,
   "metadata": {},
   "outputs": [],
   "source": [
    "from cbc_sdk.rest_api import CBCloudAPI\n",
    "from cbc_sdk.platform import WatchlistAlert, Process"
   ]
  },
  {
   "cell_type": "code",
   "execution_count": 7,
   "metadata": {},
   "outputs": [
    {
     "name": "stderr",
     "output_type": "stream",
     "text": [
      "Security warning: Windows file access to CBC SDK credentials is inherently insecure\n",
      "A future version of CBC SDK will default to using a registry-based credentials provider.\n"
     ]
    }
   ],
   "source": [
    "api = CBCloudAPI(profile='weichert')\n",
    "query = api.select(WatchlistAlert).set_time_range(\"create_time\",range=\"-1d\")\n",
    "alerts = list(query)"
   ]
  },
  {
   "cell_type": "code",
   "execution_count": 9,
   "metadata": {},
   "outputs": [
    {
     "data": {
      "text/plain": [
       "<cbc_sdk.platform.alerts.WatchlistAlert: id 2ecf05c3-eb80-4504-aba0-3006323ffcaa> @ https://defense-prod05.conferdeploy.net"
      ]
     },
     "execution_count": 9,
     "metadata": {},
     "output_type": "execute_result"
    }
   ],
   "source": [
    "alerts[0]"
   ]
  },
  {
   "cell_type": "code",
   "execution_count": 3,
   "metadata": {},
   "outputs": [],
   "source": [
    "process_details = {}\n",
    "# print(\"{0:80s} {1:40s} {2:10s} {3:35s} {4:30} {5}\".format(\"Watchlist Report\", \"Hostname\", \"Severity\", \"Process Username\", \"Username\", \"Last Updated\"))\n",
    "for alert in alerts:\n",
    "    if alert.process_guid not in process_details:\n",
    "        try:\n",
    "            # Get details about the process associated with the alert\n",
    "            process_query = api.select(Process).where(process_guid=alert.process_guid)\n",
    "            # Build a cache so we don't need to wait if we've seen the process before\n",
    "            process_details[alert.process_guid] = process_query[0].get_details()\n",
    "        except:\n",
    "            # Failed to get process details - leave it empty\n",
    "            process_details[alert.process_guid] = {}\n"
   ]
  },
  {
   "cell_type": "code",
   "execution_count": null,
   "metadata": {},
   "outputs": [],
   "source": [
    "            \n",
    "\n",
    "print(\"{0:80s} {1:40s} {2:10} {3:35} {4:30s} {5}\".format(alert.get('report_name','N/A'), alert.get('device_name', 'N/A'), alert.get('severity','N/A'), str(process_details[alert.process_guid].get('process_username', 'N/A')), alert.get('device_username', 'N/A'), alert.get('last_update_time', 'N/A')))\n",
    "\n",
    "quit()"
   ]
  }
 ],
 "metadata": {
  "interpreter": {
   "hash": "2db524e06e9f5f4ffedc911c917cb75e12dbc923643829bf417064a77eb14d37"
  },
  "kernelspec": {
   "display_name": "Python 3.8.5 64-bit",
   "name": "python3"
  },
  "language_info": {
   "codemirror_mode": {
    "name": "ipython",
    "version": 3
   },
   "file_extension": ".py",
   "mimetype": "text/x-python",
   "name": "python",
   "nbconvert_exporter": "python",
   "pygments_lexer": "ipython3",
   "version": "3.8.5"
  },
  "orig_nbformat": 4
 },
 "nbformat": 4,
 "nbformat_minor": 2
}
