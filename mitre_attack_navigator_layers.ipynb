{
 "cells": [
  {
   "cell_type": "code",
   "execution_count": 17,
   "metadata": {},
   "outputs": [],
   "source": [
    "# Purpose: Create a layer for MITRE's ATT&CK Navigator based on existing coverage of attack techniques.\n",
    "\n",
    "# Resources\n",
    "# https://mitre-attack.github.io/attack-navigator/\n",
    "# https://github.com/mitre-attack/attack-scripts/blob/master/scripts/layers/samples/heatmap.py\n",
    "# https://thispointer.com/python-read-csv-into-a-list-of-lists-or-tuples-or-dictionaries-import-csv-to-list/\n",
    "\n",
    "# Steps/Components are\n",
    "# 1. Have baselayer.json\n",
    "# 2. have source.csv\n",
    "# 3. run script against source.csv to make newlayer.json\n",
    "# 4. Import newlayer.json and baselayer.json into ATT&CK Navigator\n",
    "# 5. Use Create Layer from other layers \n",
    "#   domain: enterprise\n",
    "#   score expresssion: a+b\n",
    "#   gradient: base layer\n",
    "#   coloring: new layer\n",
    "#   states: base layer\n",
    "#   filters: base layer\n",
    "#   legend: base layer\n",
    "\n",
    "# Sample techniques.csv:\n",
    "# techniqueID,signatures\n",
    "# T1595,1\n",
    "# T1595.002,1\n",
    "# T1133,2\n",
    "# T1047,2\n",
    "# T1542,2\n",
    "# T1542.005,2\n",
    "# T1021,1\n"
   ]
  },
  {
   "cell_type": "code",
   "execution_count": 125,
   "metadata": {},
   "outputs": [],
   "source": [
    "import argparse\n",
    "import csv\n",
    "import json\n",
    "import random\n",
    "import requests\n",
    "from stix2 import MemoryStore, Filter"
   ]
  },
  {
   "cell_type": "code",
   "execution_count": 126,
   "metadata": {},
   "outputs": [],
   "source": [
    "# Create List of Dictionaries from CSV\n",
    "csv_file = \"techniques.csv\"\n",
    "my_techniques = []\n",
    "\n",
    "from csv import DictReader\n",
    "# open file in read mode\n",
    "with open(csv_file, 'r') as csv:\n",
    "    # pass the file object to DictReader() to get the DictReader object\n",
    "    dict_reader = DictReader(csv)\n",
    "    # get a list of dictionaries from dct_reader\n",
    "    my_techniques = list(dict_reader)\n",
    "    # print list of dict i.e. rows\n",
    "    # for my_technique in my_techniques:\n",
    "    #     print(my_technique[\"signatures\"])"
   ]
  },
  {
   "cell_type": "code",
   "execution_count": 127,
   "metadata": {},
   "outputs": [],
   "source": [
    "# parse techniques into layer format\n",
    "techniques_list = []\n",
    "for my_technique in my_techniques:\n",
    "    techniques_list.append({\n",
    "        \"techniqueID\": my_technique['techniqueID'],\n",
    "        \"score\": int(my_technique['signatures']),\n",
    "        \"enabled\": \"true\"\n",
    "    })"
   ]
  },
  {
   "cell_type": "code",
   "execution_count": 6,
   "metadata": {},
   "outputs": [],
   "source": [
    "# import the STIX data from MITRE/CTI (only run for demo)\n",
    "stix = requests.get(\"https://raw.githubusercontent.com/mitre/cti/master/enterprise-attack/enterprise-attack.json\").json()\n",
    "ms = MemoryStore(stix_data=stix[\"objects\"])\n",
    "# get all techniques in STIX\n",
    "techniques = ms.query([\n",
    "    Filter(\"type\", \"=\", \"attack-pattern\")\n",
    "])"
   ]
  },
  {
   "cell_type": "code",
   "execution_count": 18,
   "metadata": {},
   "outputs": [],
   "source": [
    "# parse techniques into layer format (only run for demo)\n",
    "techniques_list = []\n",
    "for technique in techniques:\n",
    "    # skip deprecated and revoked\n",
    "    if (\"x_mitre_deprecated\" in technique and technique[\"x_mitre_deprecated\"]) or (\"revoked\" in technique and technique[\"revoked\"]): continue\n",
    "    techniqueID = technique[\"external_references\"][0][\"external_id\"] # get the attackID\n",
    "    techniques_list.append({\n",
    "        \"techniqueID\": techniqueID,\n",
    "        \"score\": random.randint(1,100), # random score\n",
    "        \"enabled\": \"true\"\n",
    "        # else, enabled=false\n",
    "    })"
   ]
  },
  {
   "cell_type": "code",
   "execution_count": 128,
   "metadata": {},
   "outputs": [],
   "source": [
    "# return the techniques in a layer dict\n",
    "layer = {\n",
    "    \"name\": \"{}\".format(csv_file),\n",
    "    \"versions\": {\n",
    "        \"attack\": \"10\",\n",
    "\t\t\"navigator\": \"4.5.4\",\n",
    "\t\t\"layer\": \"4.2\"\n",
    "    },\n",
    "    \"domain\": \"enterprise-attack\",\n",
    "    \"description\": \"Layer generated from {}\".format(csv_file),\n",
    "    \"filters\": {\n",
    "\t\t\"platforms\": [\n",
    "\t\t\t\"Linux\",\n",
    "\t\t\t\"macOS\",\n",
    "\t\t\t\"Windows\",\n",
    "\t\t\t\"Azure AD\",\n",
    "\t\t\t\"Office 365\",\n",
    "\t\t\t\"SaaS\",\n",
    "\t\t\t\"IaaS\",\n",
    "\t\t\t\"Google Workspace\",\n",
    "\t\t\t\"PRE\",\n",
    "\t\t\t\"Network\",\n",
    "\t\t\t\"Containers\"\n",
    "\t\t]\n",
    "    },\n",
    "    \"sorting\": 3, # descending order of score\n",
    "    \"layout\": {\n",
    "\t\t\"layout\": \"side\",\n",
    "\t\t\"aggregateFunction\": \"average\",\n",
    "\t\t\"showID\": \"false\",\n",
    "\t\t\"showName\": \"true\",\n",
    "\t\t\"showAggregateScores\": \"false\",\n",
    "\t\t\"countUnscored\": \"false\"\n",
    "\t},\n",
    "\t\"hideDisabled\": \"true\",\n",
    "    \"techniques\": techniques_list,\n",
    "\t\"gradient\": {\n",
    "\t\t\"colors\": [\n",
    "\t\t\t\"#8ec843\",\n",
    "\t\t\t\"#8ec843\"\n",
    "\t\t],\n",
    "\t\t\"minValue\": 0,\n",
    "\t\t\"maxValue\": 1000\n",
    "\t},\n",
    "\t\"legendItems\": [],\n",
    "\t\"metadata\": [],\n",
    "\t\"showTacticRowBackground\": \"false\",\n",
    "\t\"tacticRowBackground\": \"#dddddd\",\n",
    "\t\"selectTechniquesAcrossTactics\": \"false\",\n",
    "\t\"selectSubtechniquesWithParent\": \"false\"\n",
    "}\n"
   ]
  },
  {
   "cell_type": "code",
   "execution_count": 129,
   "metadata": {},
   "outputs": [
    {
     "name": "stdout",
     "output_type": "stream",
     "text": [
      "writing techniques.json\n"
     ]
    }
   ],
   "source": [
    "# write the layerfile\n",
    "outfile = \"{}.json\".format(csv_file.split('\\\\')[-1].split('.')[0])\n",
    "with open(outfile, \"w\") as f:\n",
    "    print(\"writing\", outfile)\n",
    "    f.write(json.dumps(layer, indent=4))\n",
    "# print(layer)"
   ]
  }
 ],
 "metadata": {
  "interpreter": {
   "hash": "085635c7bab703e7bb5a41fe64c7278518d529ae783e191374674f75ba478b45"
  },
  "kernelspec": {
   "display_name": "Python 3.10.1 64-bit",
   "language": "python",
   "name": "python3"
  },
  "language_info": {
   "codemirror_mode": {
    "name": "ipython",
    "version": 3
   },
   "file_extension": ".py",
   "mimetype": "text/x-python",
   "name": "python",
   "nbconvert_exporter": "python",
   "pygments_lexer": "ipython3",
   "version": "3.10.1"
  },
  "orig_nbformat": 4
 },
 "nbformat": 4,
 "nbformat_minor": 2
}
